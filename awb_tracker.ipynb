{
  "nbformat": 4,
  "nbformat_minor": 0,
  "metadata": {
    "colab": {
      "provenance": [],
      "authorship_tag": "ABX9TyORILgOyG555KMXRC+JJ9+a",
      "include_colab_link": true
    },
    "kernelspec": {
      "name": "python3",
      "display_name": "Python 3"
    },
    "language_info": {
      "name": "python"
    }
  },
  "cells": [
    {
      "cell_type": "markdown",
      "metadata": {
        "id": "view-in-github",
        "colab_type": "text"
      },
      "source": [
        "<a href=\"https://colab.research.google.com/github/askmuhsin/colab_selenium/blob/main/awb_tracker.ipynb\" target=\"_parent\"><img src=\"https://colab.research.google.com/assets/colab-badge.svg\" alt=\"Open In Colab\"/></a>"
      ]
    },
    {
      "cell_type": "code",
      "execution_count": null,
      "metadata": {
        "colab": {
          "base_uri": "https://localhost:8080/"
        },
        "id": "Pw-TkIZpnkfz",
        "outputId": "b0925eb9-30cc-4951-9cef-26b77912a870"
      },
      "outputs": [
        {
          "output_type": "stream",
          "name": "stdout",
          "text": [
            "Cloning into 'colab_selenium'...\n",
            "remote: Enumerating objects: 11, done.\u001b[K\n",
            "remote: Counting objects: 100% (11/11), done.\u001b[K\n",
            "remote: Compressing objects: 100% (7/7), done.\u001b[K\n",
            "remote: Total 11 (delta 2), reused 8 (delta 2), pack-reused 0\u001b[K\n",
            "Unpacking objects: 100% (11/11), 3.16 KiB | 810.00 KiB/s, done.\n",
            "Executing: /tmp/apt-key-gpghome.QymtSM8WFj/gpg.1.sh --keyserver keyserver.ubuntu.com --recv-keys DCC9EFBF77E11517\n",
            "gpg: key DCC9EFBF77E11517: \"Debian Stable Release Key (10/buster) <debian-release@lists.debian.org>\" not changed\n",
            "gpg: Total number processed: 1\n",
            "gpg:              unchanged: 1\n",
            "Executing: /tmp/apt-key-gpghome.Xu27RLjM6x/gpg.1.sh --keyserver keyserver.ubuntu.com --recv-keys 648ACFD622F3D138\n",
            "gpg: key DC30D7C23CBBABEE: \"Debian Archive Automatic Signing Key (10/buster) <ftpmaster@debian.org>\" not changed\n",
            "gpg: Total number processed: 1\n",
            "gpg:              unchanged: 1\n",
            "Executing: /tmp/apt-key-gpghome.jIsqc9f8BR/gpg.1.sh --keyserver keyserver.ubuntu.com --recv-keys 112695A0E562B32A\n",
            "gpg: key 4DFAB270CAA96DFA: \"Debian Security Archive Automatic Signing Key (10/buster) <ftpmaster@debian.org>\" not changed\n",
            "gpg: Total number processed: 1\n",
            "gpg:              unchanged: 1\n",
            "gpg: cannot open '/dev/tty': No such device or address\n",
            "Warning: apt-key output should not be parsed (stdout is not a terminal)\n",
            "gpg: [stdout]: write error: Broken pipe\n",
            "gpg: filter_flush failed on close: Broken pipe\n",
            "gpg: cannot open '/dev/tty': No such device or address\n",
            "Warning: apt-key output should not be parsed (stdout is not a terminal)\n",
            "gpg: [stdout]: write error: Broken pipe\n",
            "gpg: filter_flush failed on close: Broken pipe\n",
            "gpg: cannot open '/dev/tty': No such device or address\n",
            "Warning: apt-key output should not be parsed (stdout is not a terminal)\n",
            "gpg: [stdout]: write error: Broken pipe\n",
            "gpg: filter_flush failed on close: Broken pipe\n",
            "Hit:1 http://deb.debian.org/debian buster InRelease\n",
            "Hit:2 http://security.ubuntu.com/ubuntu focal-security InRelease\n",
            "Hit:3 http://deb.debian.org/debian buster-updates InRelease\n",
            "Hit:4 http://deb.debian.org/debian-security buster/updates InRelease\n",
            "Hit:5 http://archive.ubuntu.com/ubuntu focal InRelease\n",
            "Hit:6 http://ppa.launchpad.net/c2d4u.team/c2d4u4.0+/ubuntu focal InRelease\n",
            "Hit:7 https://cloud.r-project.org/bin/linux/ubuntu focal-cran40/ InRelease\n",
            "Hit:8 http://archive.ubuntu.com/ubuntu focal-updates InRelease\n",
            "Hit:9 http://archive.ubuntu.com/ubuntu focal-backports InRelease\n",
            "Hit:10 http://ppa.launchpad.net/cran/libgit2/ubuntu focal InRelease\n",
            "Hit:11 http://ppa.launchpad.net/deadsnakes/ppa/ubuntu focal InRelease\n",
            "Hit:12 https://developer.download.nvidia.com/compute/cuda/repos/ubuntu2004/x86_64  InRelease\n",
            "Hit:13 http://ppa.launchpad.net/graphics-drivers/ppa/ubuntu focal InRelease\n",
            "Hit:14 http://ppa.launchpad.net/ubuntugis/ppa/ubuntu focal InRelease\n",
            "Reading package lists... Done\n",
            "Reading package lists... Done\n",
            "Building dependency tree       \n",
            "Reading state information... Done\n",
            "chromium is already the newest version (90.0.4430.212-1~deb10u1).\n",
            "0 upgraded, 0 newly installed, 0 to remove and 23 not upgraded.\n",
            "Reading package lists... Done\n",
            "Building dependency tree       \n",
            "Reading state information... Done\n",
            "xvfb is already the newest version (2:1.20.13-1ubuntu1~20.04.8).\n",
            "0 upgraded, 0 newly installed, 0 to remove and 23 not upgraded.\n",
            "Found existing installation: selenium-profiles 2.2.5.5\n",
            "Uninstalling selenium-profiles-2.2.5.5:\n",
            "  Successfully uninstalled selenium-profiles-2.2.5.5\n",
            "Looking in indexes: https://pypi.org/simple, https://us-python.pkg.dev/colab-wheels/public/simple/\n",
            "Requirement already satisfied: google-colab-shell in /usr/local/lib/python3.9/dist-packages (0.2)\n"
          ]
        }
      ],
      "source": [
        "# ! rm -rf ./colab_selenium\n",
        "! git clone https://github.com/askmuhsin/colab_selenium\n",
        "\n",
        "! chmod +x ./colab_selenium/install_selenium.sh\n",
        "! ./colab_selenium/install_selenium.sh"
      ]
    },
    {
      "cell_type": "code",
      "source": [
        "from colab_selenium.utils import setup_driver\n",
        "from bs4 import BeautifulSoup\n",
        "import json\n",
        "import time"
      ],
      "metadata": {
        "id": "mEUjmJkPnzy-"
      },
      "execution_count": null,
      "outputs": []
    },
    {
      "cell_type": "code",
      "source": [
        "def scrape_poslaju(awb, driver):\n",
        "    url = f\"https://app.easyparcel.com/my/en/track/details/?awb={awb}&courier=poslaju\"\n",
        "    print('Scrapping -- ', url)\n",
        "\n",
        "    driver.get(url)\n",
        "    time.sleep(3)\n",
        "    html = driver.page_source\n",
        "    soup = BeautifulSoup(html, \"html.parser\")\n",
        "\n",
        "    statuspoints = soup.select('.statuspoint__content')\n",
        "    status_list = []\n",
        "    for sp in statuspoints:\n",
        "        status = sp.select_one('strong').text\n",
        "        location = sp.select_one('.hint').text\n",
        "\n",
        "        time_elem = sp.parent.select_one('.statuspoint__time')\n",
        "        status_date = time_elem.select_one('strong').text\n",
        "        status_time = time_elem.select_one('.hint').text\n",
        "        \n",
        "        status_dict = {\n",
        "            'status': status,\n",
        "            'location': location,\n",
        "            'date': status_date,\n",
        "            'time': status_time,\n",
        "        }\n",
        "        \n",
        "        status_list.append(status_dict)\n",
        "\n",
        "    return status_list\n"
      ],
      "metadata": {
        "id": "ZUSsZirPpdgg"
      },
      "execution_count": null,
      "outputs": []
    },
    {
      "cell_type": "code",
      "source": [
        "driver = setup_driver()"
      ],
      "metadata": {
        "colab": {
          "base_uri": "https://localhost:8080/"
        },
        "id": "oZ45RqfNoX7W",
        "outputId": "01e79598-b2c8-412c-cd60-811f7c4df9dd"
      },
      "execution_count": null,
      "outputs": [
        {
          "output_type": "stream",
          "name": "stderr",
          "text": [
            "/usr/local/lib/python3.9/dist-packages/selenium_profiles/scripts/profiles.py:74: UserWarning: Might be more likely to get detected with sandbox set to False!\n",
            "  warnings.warn('Might be more likely to get detected with sandbox set to False!')\n"
          ]
        }
      ]
    },
    {
      "cell_type": "code",
      "source": [
        "awbs = [\"EN706068813MY\"]\n",
        "for awb in awbs:\n",
        "    status_list = scrape_poslaju(awb, driver)\n",
        "    print(json.dumps(status_list, indent=1))"
      ],
      "metadata": {
        "colab": {
          "base_uri": "https://localhost:8080/"
        },
        "id": "zDGzZEg9oZWL",
        "outputId": "4d140da5-69f4-4c6f-f2f2-b5e4d0f72dfb"
      },
      "execution_count": null,
      "outputs": [
        {
          "output_type": "stream",
          "name": "stdout",
          "text": [
            "Scrapping --  https://app.easyparcel.com/my/en/track/details/?awb=EN706068813MY&courier=poslaju\n",
            "[\n",
            " {\n",
            "  \"status\": \"Item processed\",\n",
            "  \"location\": \"HUB Parcel Domestik Shah Alam\",\n",
            "  \"date\": \"2023-03-04\",\n",
            "  \"time\": \"03:05 AM\"\n",
            " },\n",
            " {\n",
            "  \"status\": \"Item dispatched out\",\n",
            "  \"location\": \"Pusat POS Laju Sungai Petani\",\n",
            "  \"date\": \"2023-03-03\",\n",
            "  \"time\": \"18:05 PM\"\n",
            " },\n",
            " {\n",
            "  \"status\": \"Item picked up\",\n",
            "  \"location\": \"Pusat POS Laju Sungai Petani\",\n",
            "  \"date\": \"2023-03-03\",\n",
            "  \"time\": \"12:29 PM\"\n",
            " }\n",
            "]\n"
          ]
        }
      ]
    },
    {
      "cell_type": "code",
      "source": [],
      "metadata": {
        "id": "X1v1ZUsApkyL"
      },
      "execution_count": null,
      "outputs": []
    }
  ]
}